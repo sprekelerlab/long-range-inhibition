{
 "cells": [
  {
   "cell_type": "markdown",
   "metadata": {},
   "source": [
    "Signed changes "
   ]
  },
  {
   "cell_type": "code",
   "execution_count": 1,
   "metadata": {},
   "outputs": [],
   "source": [
    "import numpy as np\n",
    "from scipy.io import loadmat\n",
    "import os\n",
    "\n",
    "import matplotlib.pyplot as plt\n",
    "import matplotlib.gridspec as gridspec\n",
    "import seaborn as sns\n",
    "sns.set_palette(\"colorblind\")\n",
    "sns.set_context(\"poster\")\n",
    "\n",
    "import sys\n",
    "from data_utils import get_per_mouse_boutons, load_data"
   ]
  },
  {
   "cell_type": "code",
   "execution_count": null,
   "metadata": {},
   "outputs": [],
   "source": [
    "def compute_angle(x, y, in_degrees=True):\n",
    "    angle_in_radians = np.arccos(x@y / (x@x * y@y)**0.5)\n",
    "    if in_degrees:\n",
    "        return angle_in_radians * 180/np.pi\n",
    "    else:\n",
    "        return angle_in_radians"
   ]
  },
  {
   "cell_type": "code",
   "execution_count": 32,
   "metadata": {},
   "outputs": [],
   "source": [
    "\n",
    "\n",
    "# Compute angle between avg. response for specific stimulus\n",
    "# and NP/NR boutons \n",
    "def get_learning_angles(stim, expt = 'AFC'):\n",
    "    responses = ['exc', 'inh']\n",
    "    hab_rec = {} # angle between avg. habituation and avg. recall vecgtors\n",
    "    for resp in responses:\n",
    "        Xr, yr = get_per_mouse_boutons(\"rec\", f\"../data/per_mouse/{expt}_{resp}_{stim}/\")\n",
    "        Xa, ya = get_per_mouse_boutons(\"acq\", f\"../data/per_mouse/{expt}_{resp}_{stim}/\")\n",
    "        Xh, yh = get_per_mouse_boutons(\"hab\", f\"../data/per_mouse/{expt}_{resp}_{stim}/\")\n",
    "\n",
    "        mouse_ids = Xr.keys()\n",
    "        n_mice = len(mouse_ids)\n",
    "        n_trials = 15\n",
    "\n",
    "        hab_rec[resp] = np.zeros((n_mice, ))\n",
    "\n",
    "\n",
    "\n",
    "        for m, mouse_id in enumerate(mouse_ids):\n",
    "            # Mean during habituation vs mean during recall\n",
    "            hab_rec[resp][m] = compute_angle(Xh[mouse_id][:,12:21].mean((0,1)),  Xr[mouse_id][:,12:21].mean((0,1)))\n",
    "            \n",
    "    return hab_rec\n"
   ]
  },
  {
   "cell_type": "code",
   "execution_count": 62,
   "metadata": {},
   "outputs": [],
   "source": [
    "pc_angles = {}\n",
    "afc_angles = {}\n",
    "for stim in ['cs1', 'cs2']:\n",
    "    pc_angles[stim] = get_learning_angles(stim, 'Pseudo')\n",
    "    \n",
    "for stim in ['csm', 'csp']:\n",
    "    afc_angles[stim] = get_learning_angles(stim, 'AFC')"
   ]
  },
  {
   "cell_type": "code",
   "execution_count": 100,
   "metadata": {},
   "outputs": [
    {
     "data": {
      "image/png": "[encoded data removed]",
      "text/plain": [
       "<Figure size 432x288 with 1 Axes>"
      ]
     },
     "metadata": {
      "needs_background": "light"
     },
     "output_type": "display_data"
    }
   ],
   "source": [
    "# plot them\n",
    "color = 'tab:blue'\n",
    "alpha = 0.5\n",
    "s = 30\n",
    "\n",
    "for i, resp in enumerate(['exc', 'inh']):\n",
    "    pc_avg = (pc_angles['cs1'][resp]+ pc_angles['cs2'][resp])/2\n",
    "    plt.bar(i, pc_avg.mean(), color=color, alpha=alpha)\n",
    "    plt.scatter([i] * len(pc_avg), pc_avg, s=s, alpha=alpha)\n",
    "\n",
    "# means    \n",
    "plt.bar(3, afc_angles['csm']['exc'].mean(), color=color, alpha=alpha)\n",
    "plt.bar(4, afc_angles['csm']['inh'].mean(), color=color, alpha=alpha)\n",
    "\n",
    "plt.bar(6, afc_angles['csp']['exc'].mean(), color=color, alpha=alpha)\n",
    "plt.bar(7, afc_angles['csp']['inh'].mean(), color=color, alpha=alpha) \n",
    "\n",
    "# individual mice\n",
    "plt.scatter([3]* len(afc_angles['csm']['exc']), afc_angles['csm']['exc'], s=s, alpha=alpha)\n",
    "plt.scatter([4]* len(afc_angles['csm']['inh']), afc_angles['csm']['inh'], s=s, alpha=alpha)\n",
    "\n",
    "plt.scatter([6]* len(afc_angles['csp']['exc']), afc_angles['csp']['exc'], s=s, alpha=alpha)\n",
    "plt.scatter([7]* len(afc_angles['csp']['inh']), afc_angles['csp']['inh'], s=s, alpha=alpha)\n",
    "\n",
    "plt.xticks([0, 1, 3, 4, 6, 7], ['PN', 'NR']*3)\n",
    "plt.text(0, -50, \"CS1/2\", fontsize=20)\n",
    "plt.text(3, -50, \"CS-\", fontsize=20)\n",
    "plt.text(6, -50, \"CS+\", fontsize=20)\n",
    "\n",
    "plt.ylabel(f\"Learning $\\theta$ (deg.)\")\n",
    "\n",
    "sns.despine()\n",
    "plt.tight_layout()"
   ]
  },
  {
   "cell_type": "code",
   "execution_count": null,
   "metadata": {},
   "outputs": [],
   "source": []
  }
 ],
 "metadata": {
  "kernelspec": {
   "display_name": "Python 3",
   "language": "python",
   "name": "python3"
  },
  "language_info": {
   "codemirror_mode": {
    "name": "ipython",
    "version": 3
   },
   "file_extension": ".py",
   "mimetype": "text/x-python",
   "name": "python",
   "nbconvert_exporter": "python",
   "pygments_lexer": "ipython3",
   "version": "3.6.7"
  }
 },
 "nbformat": 4,
 "nbformat_minor": 2
}
